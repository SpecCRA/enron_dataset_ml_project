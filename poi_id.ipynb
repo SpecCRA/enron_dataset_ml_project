{
 "cells": [
  {
   "cell_type": "code",
   "execution_count": 20,
   "metadata": {},
   "outputs": [],
   "source": [
    "#!/usr/bin/python\n",
    "\n",
    "import sys\n",
    "import pickle\n",
    "import pandas as pd\n",
    "import numpy\n",
    "from sklearn.model_selection import GridSearchCV\n",
    "sys.path.append(\"../tools/\")\n",
    "\n",
    "from feature_format import featureFormat, targetFeatureSplit\n",
    "from tester import dump_classifier_and_data"
   ]
  },
  {
   "cell_type": "code",
   "execution_count": 2,
   "metadata": {
    "collapsed": true
   },
   "outputs": [],
   "source": [
    "### Task 1: Select what features you'll use.\n",
    "### features_list is a list of strings, each of which is a feature name.\n",
    "### The first feature must be \"poi\".\n",
    "# features_list is a list of my selected features\n",
    "# finance_features has finance features I'm interested in\n",
    "# email_features is a list of email features\n",
    "features_list = ['poi', 'bonus', 'expenses', 'bon_plus_expenses', 'bon_sal_ratio', \\\n",
    "                'to_msg_ratio', 'from_msg_ratio']\n",
    "finance_features = ['poi', 'salary', 'bonus', 'long_term_incentive', \\\n",
    "                 'deferred_income', 'expenses', 'total_payments', \\\n",
    "                 'exercised_stock_options', 'restricted_stock', 'other'] \n",
    "email_features = ['poi', 'to_messages', 'email_address', \n",
    "                 'from_poi_to_this_person', 'from_messages', \\\n",
    "                 'from_this_person_to_poi', 'shared_receipt_with_poi', \\\n",
    "                 'to_msg_ratio', 'from_msg_ratio']\n",
    "\n",
    "### Load the dictionary containing the dataset\n",
    "with open(\"final_project_dataset.pkl\", \"r\") as data_file:\n",
    "    data_dict = pickle.load(data_file)\n",
    "\n",
    "df = pd.DataFrame.from_records(list(data_dict.values()))\n",
    "employees = pd.Series(list(data_dict.keys()))\n",
    "\n",
    "# set the index of df to be the employees series:\n",
    "df.set_index(employees, inplace=True)"
   ]
  },
  {
   "cell_type": "code",
   "execution_count": 3,
   "metadata": {
    "scrolled": true
   },
   "outputs": [
    {
     "name": "stdout",
     "output_type": "stream",
     "text": [
      "Number of missing values in poi: 128\n",
      "Number of missing values in bonus: 64\n",
      "Number of missing values in expenses: 51\n",
      "Created feature:  bon_plus_expenses\n",
      "Created feature:  bon_sal_ratio\n",
      "Created feature:  to_msg_ratio\n",
      "Created feature:  from_msg_ratio\n"
     ]
    }
   ],
   "source": [
    "# Find how many missing values are in my selected features\n",
    "for feature in features_list:\n",
    "    try:\n",
    "        print \"Number of missing values in \" + str(feature) + \": \" + str(df[feature].value_counts(dropna=False)[0])\n",
    "    except:\n",
    "        print \"Created feature: \", str(feature)"
   ]
  },
  {
   "cell_type": "code",
   "execution_count": 4,
   "metadata": {
    "collapsed": true,
    "scrolled": true
   },
   "outputs": [],
   "source": [
    "# Create another working dataframe to make new features \n",
    "\n",
    "df_new = df.apply(lambda x: pd.to_numeric(x, errors='coerce')).copy()"
   ]
  },
  {
   "cell_type": "code",
   "execution_count": 5,
   "metadata": {
    "collapsed": true
   },
   "outputs": [],
   "source": [
    "# from_msg_ratio is ratio messages received from poi to total messages received\n",
    "df_new['to_msg_ratio'] = df_new.from_this_person_to_poi.divide(df_new.to_messages, axis = 'index')\n",
    "\n",
    "# create to_msg_ratio by dividing from_this_person_to_poi from to_messages\n",
    "df_new['from_msg_ratio'] = df_new.from_poi_to_this_person.divide(df_new.from_messages, axis = 'index')\n",
    "\n",
    "# create a new feature by adding expenses and bonus together\n",
    "df_new['bon_plus_expenses'] = df_new['bonus'].add(df_new['expenses'], axis = 'index')\n",
    "# new feature of bonus to salary ratio\n",
    "\n",
    "df_new['bon_sal_ratio'] = df_new['bonus'].divide(df_new['salary'], axis = 'index')\n",
    "# new feature of bonus to expenses ratio"
   ]
  },
  {
   "cell_type": "code",
   "execution_count": 6,
   "metadata": {
    "collapsed": true
   },
   "outputs": [],
   "source": [
    "# Fill NaN with 0 where operations created NaN in some rows\n",
    "df_new.fillna(0, inplace = True)"
   ]
  },
  {
   "cell_type": "code",
   "execution_count": 7,
   "metadata": {
    "collapsed": true,
    "scrolled": true
   },
   "outputs": [],
   "source": [
    "#df_new['bon_plus_expenses']"
   ]
  },
  {
   "cell_type": "code",
   "execution_count": 8,
   "metadata": {
    "collapsed": true
   },
   "outputs": [],
   "source": [
    "# create a dictionary from the dataframe\n",
    "df_dict = df_new.to_dict('index')"
   ]
  },
  {
   "cell_type": "code",
   "execution_count": 33,
   "metadata": {},
   "outputs": [
    {
     "data": {
      "text/plain": [
       "array(['bonus', 'deferral_payments', 'deferred_income', 'director_fees',\n",
       "       'email_address'], dtype=object)"
      ]
     },
     "execution_count": 33,
     "metadata": {},
     "output_type": "execute_result"
    }
   ],
   "source": [
    "# after you create features, the column names will be your new features\n",
    "# create a list of column names:\n",
    "new_features_list = df_new.columns.values\n",
    "new_features_list[:5]"
   ]
  },
  {
   "cell_type": "code",
   "execution_count": 10,
   "metadata": {
    "collapsed": true
   },
   "outputs": [],
   "source": [
    "### Task 2: Remove outliers\n",
    "\n",
    "# I want to try out classifiers first before removing outliers to see \n",
    "# if it would perform any better."
   ]
  },
  {
   "cell_type": "code",
   "execution_count": 11,
   "metadata": {
    "collapsed": true
   },
   "outputs": [],
   "source": [
    "### Task 3: Create new feature(s)\n",
    "### Store to my_dataset for easy export below.\n",
    "my_dataset = df_dict"
   ]
  },
  {
   "cell_type": "code",
   "execution_count": 12,
   "metadata": {
    "collapsed": true
   },
   "outputs": [],
   "source": [
    "### Extract features and labels from dataset for local testing\n",
    "data = featureFormat(my_dataset, features_list, sort_keys = True)\n",
    "labels, features = targetFeatureSplit(data)"
   ]
  },
  {
   "cell_type": "code",
   "execution_count": 13,
   "metadata": {
    "collapsed": true,
    "scrolled": true
   },
   "outputs": [],
   "source": [
    "### Task 4: Try a varity of classifiers\n",
    "### Please name your classifier clf for easy export below.\n",
    "### Note that if you want to do PCA or other multi-stage operations,\n",
    "### you'll need to use Pipelines. For more info:\n",
    "### http://scikit-learn.org/stable/modules/pipeline.html\n",
    "\n",
    "# Provided to give you a starting point. Try a variety of classifiers."
   ]
  },
  {
   "cell_type": "code",
   "execution_count": 14,
   "metadata": {},
   "outputs": [
    {
     "name": "stdout",
     "output_type": "stream",
     "text": [
      "[[  6.87843393e-01   3.63301401e-02   7.24949369e-01   4.31046157e-08\n",
      "   -2.89403891e-11  -2.96706207e-09]\n",
      " [  7.19200968e-01  -1.69077155e-01  -6.73916081e-01   5.64282610e-06\n",
      "    1.15852540e-09  -2.16616278e-07]]\n"
     ]
    }
   ],
   "source": [
    "# Trying PCA to combine some features\n",
    "\n",
    "from sklearn.decomposition import PCA\n",
    "pca = PCA(n_components = 2)\n",
    "pca.fit(features)\n",
    "\n",
    "\n",
    "#print pca.explained_variance_ratio_\n",
    "print pca.components_\n",
    "#print pca.explained_variance_\n",
    "features_pca = pca.transform(features)"
   ]
  },
  {
   "cell_type": "code",
   "execution_count": 15,
   "metadata": {},
   "outputs": [
    {
     "name": "stdout",
     "output_type": "stream",
     "text": [
      "[ 0.15654285  0.23536453  0.13178955  0.13761229  0.15467439  0.18401639]\n"
     ]
    }
   ],
   "source": [
    "# First one tried is RandomForestClassifier\n",
    "from sklearn.naive_bayes import GaussianNB\n",
    "from sklearn.ensemble import RandomForestClassifier\n",
    "\n",
    "rfc = RandomForestClassifier(n_estimators = 25, min_samples_split = 3, \n",
    "                            random_state = 2)\n",
    "rfc = rfc.fit(features, labels)\n",
    "\n",
    "print rfc.feature_importances_"
   ]
  },
  {
   "cell_type": "code",
   "execution_count": 16,
   "metadata": {},
   "outputs": [
    {
     "name": "stdout",
     "output_type": "stream",
     "text": [
      "[ 0.02553311  0.46042969  0.43524932  0.          0.          0.07878788]\n"
     ]
    }
   ],
   "source": [
    "from sklearn.tree import DecisionTreeClassifier\n",
    "\n",
    "dc = DecisionTreeClassifier()\n",
    "dc = dc.fit(features, labels)\n",
    "\n",
    "print dc.feature_importances_"
   ]
  },
  {
   "cell_type": "code",
   "execution_count": 17,
   "metadata": {
    "collapsed": true
   },
   "outputs": [],
   "source": [
    "# Next, Adaboost\n",
    "#from sklearn.ensemble import AdaBoostClassifier\n",
    "\n",
    "#abc = AdaBoostClassifier()\n",
    "#abc = abc.fit(features, labels)\n",
    "\n",
    "#print abc.feature_importances_\n",
    "\n",
    "# After reading a forum post, it looked like decision tree classifiers \n",
    "# work better in this setting"
   ]
  },
  {
   "cell_type": "code",
   "execution_count": 26,
   "metadata": {
    "collapsed": true
   },
   "outputs": [],
   "source": [
    "### Task 5: Tune your classifier to achieve better than .3 precision and recall\n",
    "### using our testing script. Check the tester.py script in the final project\n",
    "### folder for details on the evaluation method, especially the test_classifier\n",
    "### function. Because of the small size of the dataset, the script uses\n",
    "### stratified shuffle split cross validation. For more info:\n",
    "### http://scikit-learn.org/stable/modules/generated/sklearn.cross_validation.StratifiedShuffleSplit.html\n",
    "\n",
    "# Example starting point. Try investigating other evaluation techniques!\n",
    "from sklearn.cross_validation import train_test_split\n",
    "features_train, features_test, labels_train, labels_test = \\\n",
    "    train_test_split(features, labels, test_size=0.3, random_state=42)"
   ]
  },
  {
   "cell_type": "code",
   "execution_count": null,
   "metadata": {},
   "outputs": [],
   "source": [
    "# look up parameters to use for cross validation here \n",
    "# random_state is to bring consistency to results\n",
    "# results to best_params_ was variable before adding that parameter\n",
    "rbc_param_grid = {'n_estimators': [1,2, 3, 10, 25, 100], \n",
    "                'min_samples_split': [2, 3, 5, 10],\n",
    "                'random_state': [2],\n",
    "                 'max_features': [1, 2, 3, 4],\n",
    "                 'max_depth' : [2, 3, 5, 10, 50],\n",
    "                 'min_samples_leaf': [1, 2, 3, 10]}\n",
    "\n",
    "grid_cv_rfc = GridSearchCV(estimator = rfc, param_grid = rbc_param_grid, cv = 10,\n",
    "                          n_jobs = 5)\n",
    "grid_cv_rfc.fit(features, labels)\n",
    "\n",
    "grid_cv_rfc.best_params_"
   ]
  },
  {
   "cell_type": "code",
   "execution_count": 21,
   "metadata": {
    "collapsed": true
   },
   "outputs": [
    {
     "data": {
      "text/plain": [
       "{'max_features': 1,\n",
       " 'min_samples_leaf': 1,\n",
       " 'min_samples_split': 50,\n",
       " 'random_state': 2}"
      ]
     },
     "execution_count": 21,
     "metadata": {},
     "output_type": "execute_result"
    }
   ],
   "source": [
    "# gridsearchcv for decisiontreeclassifier\n",
    "\n",
    "dc_param_grid = {'min_samples_split' : [2, 3, 4, 5, 10, 50],\n",
    "                 'max_features' : [1, 2, 3, 4, 'auto', 'sqrt', 'log2'],\n",
    "                 'min_samples_leaf': [1, 2, 3, 10, 20],\n",
    "                'random_state' : [2]\n",
    "                }\n",
    "\n",
    "grid_cv_dc = GridSearchCV(estimator = dc, param_grid = dc_param_grid)\n",
    "grid_cv_dc.fit(features, labels)\n",
    "\n",
    "grid_cv_dc.best_params_"
   ]
  },
  {
   "cell_type": "code",
   "execution_count": 22,
   "metadata": {},
   "outputs": [
    {
     "name": "stdout",
     "output_type": "stream",
     "text": [
      "KFold(n_splits=10, random_state=2, shuffle=True)\n"
     ]
    }
   ],
   "source": [
    "# kmeans cross validation\n",
    "\n",
    "from sklearn.model_selection import KFold\n",
    "\n",
    "kf_rbc = KFold(n_splits = 10, shuffle=True, random_state = 2)\n",
    "kf_rbc.split(features, labels)\n",
    "print kf_rbc"
   ]
  },
  {
   "cell_type": "code",
   "execution_count": 23,
   "metadata": {
    "collapsed": true
   },
   "outputs": [],
   "source": [
    "#for train_indicies, test_indicies in kf_rbc:\n",
    "#    features_train = [data[ii] for ii in train_indicies]"
   ]
  },
  {
   "cell_type": "code",
   "execution_count": null,
   "metadata": {
    "collapsed": true
   },
   "outputs": [],
   "source": [
    "# check accuracy, precision, and recall of my classifier\n",
    "\n",
    "from sklearn.metrics import accuracy_score\n",
    "from sklearn.metrics import precision_score\n",
    "from sklearn.metrics import recall_score\n",
    "\n",
    "#print accuracy_score(features_test, labels_test)"
   ]
  },
  {
   "cell_type": "code",
   "execution_count": 44,
   "metadata": {
    "collapsed": true
   },
   "outputs": [],
   "source": [
    "# Assign clf to classifer chosen after testing\n",
    "\n",
    "clf = RandomForestClassifier(min_samples_split = 3, n_estimators = 10,\n",
    "                            random_state = 2, max_depth = 5, min_samples_leaf = 1,\n",
    "                            max_features = 3)\n",
    "clf.fit(features, labels)"
   ]
  },
  {
   "cell_type": "code",
   "execution_count": 28,
   "metadata": {},
   "outputs": [
    {
     "data": {
      "text/plain": [
       "DecisionTreeClassifier(class_weight=None, criterion='gini', max_depth=None,\n",
       "            max_features=2, max_leaf_nodes=None, min_impurity_decrease=0.0,\n",
       "            min_impurity_split=None, min_samples_leaf=1,\n",
       "            min_samples_split=2, min_weight_fraction_leaf=0.0,\n",
       "            presort=False, random_state=2, splitter='best')"
      ]
     },
     "execution_count": 28,
     "metadata": {},
     "output_type": "execute_result"
    }
   ],
   "source": [
    "clf = DecisionTreeClassifier(min_samples_split = 2, random_state = 2,\n",
    "                            max_features = 3, min_samples_leaf = 1)\n",
    "\n",
    "clf.fit(features_train, labels_train)"
   ]
  },
  {
   "cell_type": "code",
   "execution_count": 43,
   "metadata": {
    "collapsed": true,
    "scrolled": true
   },
   "outputs": [],
   "source": [
    "### Task 6: Dump your classifier, dataset, and features_list so anyone can\n",
    "### check your results. You do not need to change anything below, but make sure\n",
    "### that the version of poi_id.py that you submit can be run on its own and\n",
    "### generates the necessary .pkl files for validating your results.\n",
    "\n",
    "dump_classifier_and_data(clf, my_dataset, features_list)\n"
   ]
  }
 ],
 "metadata": {
  "kernelspec": {
   "display_name": "Python [default]",
   "language": "python",
   "name": "python2"
  },
  "language_info": {
   "codemirror_mode": {
    "name": "ipython",
    "version": 2
   },
   "file_extension": ".py",
   "mimetype": "text/x-python",
   "name": "python",
   "nbconvert_exporter": "python",
   "pygments_lexer": "ipython2",
   "version": "2.7.13"
  }
 },
 "nbformat": 4,
 "nbformat_minor": 2
}

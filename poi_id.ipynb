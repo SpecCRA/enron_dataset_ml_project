{
 "cells": [
  {
   "cell_type": "code",
   "execution_count": 2,
   "metadata": {},
   "outputs": [
    {
     "name": "stderr",
     "output_type": "stream",
     "text": [
      "/Users/benjaminxiao/anaconda2/lib/python2.7/site-packages/sklearn/cross_validation.py:41: DeprecationWarning: This module was deprecated in version 0.18 in favor of the model_selection module into which all the refactored classes and functions are moved. Also note that the interface of the new CV iterators are different from that of this module. This module will be removed in 0.20.\n",
      "  \"This module will be removed in 0.20.\", DeprecationWarning)\n"
     ]
    }
   ],
   "source": [
    "#!/usr/bin/python\n",
    "\n",
    "import sys\n",
    "import pickle\n",
    "import pandas as pd\n",
    "import numpy\n",
    "import time\n",
    "from sklearn.preprocessing import StandardScaler\n",
    "from sklearn.feature_selection import SelectKBest\n",
    "from sklearn.pipeline import Pipeline, make_pipeline\n",
    "from sklearn.model_selection import GridSearchCV \n",
    "from sklearn.model_selection import RandomizedSearchCV\n",
    "from sklearn.model_selection import StratifiedShuffleSplit\n",
    "from sklearn.neighbors import KNeighborsClassifier\n",
    "from sklearn.ensemble import RandomForestClassifier\n",
    "from sklearn.tree import DecisionTreeClassifier\n",
    "from sklearn.feature_selection import SelectKBest, chi2\n",
    "from sklearn.cross_validation import train_test_split\n",
    "from sklearn.metrics import f1_score\n",
    "sys.path.append(\"../tools/\")\n",
    "from feature_format import featureFormat, targetFeatureSplit\n",
    "from tester import dump_classifier_and_data\n",
    "from sklearn.metrics import classification_report\n",
    "from sklearn.metrics import accuracy_score\n",
    "from sklearn.pipeline import Pipeline, make_pipeline\n",
    "import matplotlib.pyplot as plt"
   ]
  },
  {
   "cell_type": "code",
   "execution_count": 3,
   "metadata": {
    "collapsed": true
   },
   "outputs": [],
   "source": [
    "### Task 1: Select what features you'll use.\n",
    "### features_list is a list of strings, each of which is a feature name.\n",
    "### The first feature must be \"poi\".\n",
    "# features_list is a list of my selected features\n",
    "# all_features is a list for exploration\n",
    "\n",
    "features_list = ['poi', 'bon_plus_expenses', 'exercised_stock_options', \n",
    "                'total_payments']\n",
    "knn_list = ['poi']\n",
    "all_features = ['poi', 'salary', 'bonus', 'long_term_incentive',\n",
    "                'deferred_income', 'expenses', 'total_payments',\n",
    "                'exercised_stock_options', 'restricted_stock', 'other', 'to_messages',\n",
    "                'email_address', 'from_poi_to_this_person', 'from_messages',\n",
    "                'from_this_person_to_poi', 'shared_receipt_with_poi', 'to_msg_ratio',\n",
    "                'from_msg_ratio', 'bon_plus_expenses', 'bon_sal_ratio'] \n",
    "\n",
    "### Load the dictionary containing the dataset\n",
    "with open(\"final_project_dataset.pkl\", \"r\") as data_file:\n",
    "    data_dict = pickle.load(data_file)\n",
    "\n",
    "df = pd.DataFrame.from_records(list(data_dict.values()))\n",
    "employees = pd.Series(list(data_dict.keys()))\n",
    "\n",
    "# set the index of df to be the employees series:\n",
    "df.set_index(employees, inplace=True)"
   ]
  },
  {
   "cell_type": "code",
   "execution_count": 4,
   "metadata": {
    "collapsed": true,
    "scrolled": true
   },
   "outputs": [],
   "source": [
    "# Create another working dataframe to make new features \n",
    "df_new = df.apply(lambda x: pd.to_numeric(x, errors='coerce')).copy()"
   ]
  },
  {
   "cell_type": "code",
   "execution_count": 5,
   "metadata": {
    "collapsed": true
   },
   "outputs": [],
   "source": [
    "# The following are my created features\n",
    "\n",
    "# from_msg_ratio is ratio messages received from poi to total messages received\n",
    "df_new['to_msg_ratio'] = df_new.from_this_person_to_poi.divide(df_new.to_messages, axis = 'index')\n",
    "\n",
    "# create to_msg_ratio by dividing from_this_person_to_poi from to_messages\n",
    "df_new['from_msg_ratio'] = df_new.from_poi_to_this_person.divide(df_new.from_messages, axis = 'index')\n",
    "\n",
    "# create a new feature by adding expenses and bonus together\n",
    "df_new['bon_plus_expenses'] = df_new['bonus'].add(df_new['expenses'], axis = 'index')\n",
    "# new feature of bonus to salary ratio\n",
    "\n",
    "df_new['bon_sal_ratio'] = df_new['bonus'].divide(df_new['salary'], axis = 'index')\n",
    "# new feature of bonus to expenses ratio"
   ]
  },
  {
   "cell_type": "code",
   "execution_count": 6,
   "metadata": {},
   "outputs": [
    {
     "name": "stdout",
     "output_type": "stream",
     "text": [
      "bonus                         64\n",
      "deferral_payments            107\n",
      "deferred_income               97\n",
      "director_fees                129\n",
      "email_address                146\n",
      "exercised_stock_options       44\n",
      "expenses                      51\n",
      "from_messages                 60\n",
      "from_poi_to_this_person       60\n",
      "from_this_person_to_poi       60\n",
      "loan_advances                142\n",
      "long_term_incentive           80\n",
      "other                         53\n",
      "poi                            0\n",
      "restricted_stock              36\n",
      "restricted_stock_deferred    128\n",
      "salary                        51\n",
      "shared_receipt_with_poi       60\n",
      "to_messages                   60\n",
      "total_payments                21\n",
      "total_stock_value             20\n",
      "to_msg_ratio                  60\n",
      "from_msg_ratio                60\n",
      "bon_plus_expenses             75\n",
      "bon_sal_ratio                 64\n",
      "dtype: int64\n"
     ]
    }
   ],
   "source": [
    "# Check how many missing values are in each column\n",
    "print df_new.isnull().sum()"
   ]
  },
  {
   "cell_type": "code",
   "execution_count": 7,
   "metadata": {
    "collapsed": true
   },
   "outputs": [],
   "source": [
    "# Fill NaN with 0 where operations created NaN in some rows\n",
    "df_new.fillna(0, inplace = True)"
   ]
  },
  {
   "cell_type": "code",
   "execution_count": 8,
   "metadata": {},
   "outputs": [
    {
     "name": "stdout",
     "output_type": "stream",
     "text": [
      "['bonus' 'deferral_payments' 'deferred_income' 'director_fees'\n",
      " 'email_address' 'exercised_stock_options' 'expenses' 'from_messages'\n",
      " 'from_poi_to_this_person' 'from_this_person_to_poi' 'loan_advances'\n",
      " 'long_term_incentive' 'other' 'poi' 'restricted_stock'\n",
      " 'restricted_stock_deferred' 'salary' 'shared_receipt_with_poi'\n",
      " 'to_messages' 'total_payments' 'total_stock_value' 'to_msg_ratio'\n",
      " 'from_msg_ratio' 'bon_plus_expenses' 'bon_sal_ratio']\n"
     ]
    }
   ],
   "source": [
    "# after you create features, the column names will be your new features\n",
    "# create a list of column names:\n",
    "new_features_list = df_new.columns.values\n",
    "print new_features_list"
   ]
  },
  {
   "cell_type": "code",
   "execution_count": 9,
   "metadata": {},
   "outputs": [
    {
     "data": {
      "image/png": "[encoded data removed]",
      "text/plain": [
       "<matplotlib.figure.Figure at 0x11a44d390>"
      ]
     },
     "metadata": {},
     "output_type": "display_data"
    }
   ],
   "source": [
    "### Task 2: Remove outliers\n",
    "# plot salary vs bonus as first step of outlier detection, visually\n",
    "# uncomment the next line if using Jupyter Notebook for an inline plot\n",
    "#%matplotlib inline\n",
    "x = df_new['salary']\n",
    "y = df_new['bonus']\n",
    "plt.figure(figsize = (10, 8))\n",
    "plt.scatter(x, y)\n",
    "plt.xlabel('Salary')\n",
    "plt.ylabel('Bonus')\n",
    "plt.show()"
   ]
  },
  {
   "cell_type": "code",
   "execution_count": 10,
   "metadata": {},
   "outputs": [
    {
     "name": "stdout",
     "output_type": "stream",
     "text": [
      "Highest bonus value: 97343619.0\n",
      "Highest salary value: 26704229.0\n"
     ]
    }
   ],
   "source": [
    "print \"Highest bonus value: \" + str(df_new['bonus'].max())\n",
    "print \"Highest salary value: \" + str(df_new['salary'].max())"
   ]
  },
  {
   "cell_type": "code",
   "execution_count": 11,
   "metadata": {
    "scrolled": true
   },
   "outputs": [
    {
     "data": {
      "text/html": [
       "<div>\n",
       "<style>\n",
       "    .dataframe thead tr:only-child th {\n",
       "        text-align: right;\n",
       "    }\n",
       "\n",
       "    .dataframe thead th {\n",
       "        text-align: left;\n",
       "    }\n",
       "\n",
       "    .dataframe tbody tr th {\n",
       "        vertical-align: top;\n",
       "    }\n",
       "</style>\n",
       "<table border=\"1\" class=\"dataframe\">\n",
       "  <thead>\n",
       "    <tr style=\"text-align: right;\">\n",
       "      <th></th>\n",
       "      <th>bonus</th>\n",
       "      <th>deferral_payments</th>\n",
       "      <th>deferred_income</th>\n",
       "      <th>director_fees</th>\n",
       "      <th>email_address</th>\n",
       "      <th>exercised_stock_options</th>\n",
       "      <th>expenses</th>\n",
       "      <th>from_messages</th>\n",
       "      <th>from_poi_to_this_person</th>\n",
       "      <th>from_this_person_to_poi</th>\n",
       "      <th>...</th>\n",
       "      <th>restricted_stock_deferred</th>\n",
       "      <th>salary</th>\n",
       "      <th>shared_receipt_with_poi</th>\n",
       "      <th>to_messages</th>\n",
       "      <th>total_payments</th>\n",
       "      <th>total_stock_value</th>\n",
       "      <th>to_msg_ratio</th>\n",
       "      <th>from_msg_ratio</th>\n",
       "      <th>bon_plus_expenses</th>\n",
       "      <th>bon_sal_ratio</th>\n",
       "    </tr>\n",
       "  </thead>\n",
       "  <tbody>\n",
       "    <tr>\n",
       "      <th>TOTAL</th>\n",
       "      <td>97343619.0</td>\n",
       "      <td>32083396.0</td>\n",
       "      <td>-27992891.0</td>\n",
       "      <td>1398517.0</td>\n",
       "      <td>0.0</td>\n",
       "      <td>311764000.0</td>\n",
       "      <td>5235198.0</td>\n",
       "      <td>0.0</td>\n",
       "      <td>0.0</td>\n",
       "      <td>0.0</td>\n",
       "      <td>...</td>\n",
       "      <td>-7576788.0</td>\n",
       "      <td>26704229.0</td>\n",
       "      <td>0.0</td>\n",
       "      <td>0.0</td>\n",
       "      <td>309886585.0</td>\n",
       "      <td>434509511.0</td>\n",
       "      <td>0.000000</td>\n",
       "      <td>0.000000</td>\n",
       "      <td>102578817.0</td>\n",
       "      <td>3.645251</td>\n",
       "    </tr>\n",
       "    <tr>\n",
       "      <th>LAVORATO JOHN J</th>\n",
       "      <td>8000000.0</td>\n",
       "      <td>0.0</td>\n",
       "      <td>0.0</td>\n",
       "      <td>0.0</td>\n",
       "      <td>0.0</td>\n",
       "      <td>4158995.0</td>\n",
       "      <td>49537.0</td>\n",
       "      <td>2585.0</td>\n",
       "      <td>528.0</td>\n",
       "      <td>411.0</td>\n",
       "      <td>...</td>\n",
       "      <td>0.0</td>\n",
       "      <td>339288.0</td>\n",
       "      <td>3962.0</td>\n",
       "      <td>7259.0</td>\n",
       "      <td>10425757.0</td>\n",
       "      <td>5167144.0</td>\n",
       "      <td>0.056619</td>\n",
       "      <td>0.204255</td>\n",
       "      <td>8049537.0</td>\n",
       "      <td>23.578789</td>\n",
       "    </tr>\n",
       "    <tr>\n",
       "      <th>LAY KENNETH L</th>\n",
       "      <td>7000000.0</td>\n",
       "      <td>202911.0</td>\n",
       "      <td>-300000.0</td>\n",
       "      <td>0.0</td>\n",
       "      <td>0.0</td>\n",
       "      <td>34348384.0</td>\n",
       "      <td>99832.0</td>\n",
       "      <td>36.0</td>\n",
       "      <td>123.0</td>\n",
       "      <td>16.0</td>\n",
       "      <td>...</td>\n",
       "      <td>0.0</td>\n",
       "      <td>1072321.0</td>\n",
       "      <td>2411.0</td>\n",
       "      <td>4273.0</td>\n",
       "      <td>103559793.0</td>\n",
       "      <td>49110078.0</td>\n",
       "      <td>0.003744</td>\n",
       "      <td>3.416667</td>\n",
       "      <td>7099832.0</td>\n",
       "      <td>6.527896</td>\n",
       "    </tr>\n",
       "    <tr>\n",
       "      <th>SKILLING JEFFREY K</th>\n",
       "      <td>5600000.0</td>\n",
       "      <td>0.0</td>\n",
       "      <td>0.0</td>\n",
       "      <td>0.0</td>\n",
       "      <td>0.0</td>\n",
       "      <td>19250000.0</td>\n",
       "      <td>29336.0</td>\n",
       "      <td>108.0</td>\n",
       "      <td>88.0</td>\n",
       "      <td>30.0</td>\n",
       "      <td>...</td>\n",
       "      <td>0.0</td>\n",
       "      <td>1111258.0</td>\n",
       "      <td>2042.0</td>\n",
       "      <td>3627.0</td>\n",
       "      <td>8682716.0</td>\n",
       "      <td>26093672.0</td>\n",
       "      <td>0.008271</td>\n",
       "      <td>0.814815</td>\n",
       "      <td>5629336.0</td>\n",
       "      <td>5.039334</td>\n",
       "    </tr>\n",
       "    <tr>\n",
       "      <th>BELDEN TIMOTHY N</th>\n",
       "      <td>5249999.0</td>\n",
       "      <td>2144013.0</td>\n",
       "      <td>-2334434.0</td>\n",
       "      <td>0.0</td>\n",
       "      <td>0.0</td>\n",
       "      <td>953136.0</td>\n",
       "      <td>17355.0</td>\n",
       "      <td>484.0</td>\n",
       "      <td>228.0</td>\n",
       "      <td>108.0</td>\n",
       "      <td>...</td>\n",
       "      <td>0.0</td>\n",
       "      <td>213999.0</td>\n",
       "      <td>5521.0</td>\n",
       "      <td>7991.0</td>\n",
       "      <td>5501630.0</td>\n",
       "      <td>1110705.0</td>\n",
       "      <td>0.013515</td>\n",
       "      <td>0.471074</td>\n",
       "      <td>5267354.0</td>\n",
       "      <td>24.532820</td>\n",
       "    </tr>\n",
       "  </tbody>\n",
       "</table>\n",
       "<p>5 rows × 25 columns</p>\n",
       "</div>"
      ],
      "text/plain": [
       "                         bonus  deferral_payments  deferred_income  \\\n",
       "TOTAL               97343619.0         32083396.0      -27992891.0   \n",
       "LAVORATO JOHN J      8000000.0                0.0              0.0   \n",
       "LAY KENNETH L        7000000.0           202911.0        -300000.0   \n",
       "SKILLING JEFFREY K   5600000.0                0.0              0.0   \n",
       "BELDEN TIMOTHY N     5249999.0          2144013.0       -2334434.0   \n",
       "\n",
       "                    director_fees  email_address  exercised_stock_options  \\\n",
       "TOTAL                   1398517.0            0.0              311764000.0   \n",
       "LAVORATO JOHN J               0.0            0.0                4158995.0   \n",
       "LAY KENNETH L                 0.0            0.0               34348384.0   \n",
       "SKILLING JEFFREY K            0.0            0.0               19250000.0   \n",
       "BELDEN TIMOTHY N              0.0            0.0                 953136.0   \n",
       "\n",
       "                     expenses  from_messages  from_poi_to_this_person  \\\n",
       "TOTAL               5235198.0            0.0                      0.0   \n",
       "LAVORATO JOHN J       49537.0         2585.0                    528.0   \n",
       "LAY KENNETH L         99832.0           36.0                    123.0   \n",
       "SKILLING JEFFREY K    29336.0          108.0                     88.0   \n",
       "BELDEN TIMOTHY N      17355.0          484.0                    228.0   \n",
       "\n",
       "                    from_this_person_to_poi      ...        \\\n",
       "TOTAL                                   0.0      ...         \n",
       "LAVORATO JOHN J                       411.0      ...         \n",
       "LAY KENNETH L                          16.0      ...         \n",
       "SKILLING JEFFREY K                     30.0      ...         \n",
       "BELDEN TIMOTHY N                      108.0      ...         \n",
       "\n",
       "                    restricted_stock_deferred      salary  \\\n",
       "TOTAL                              -7576788.0  26704229.0   \n",
       "LAVORATO JOHN J                           0.0    339288.0   \n",
       "LAY KENNETH L                             0.0   1072321.0   \n",
       "SKILLING JEFFREY K                        0.0   1111258.0   \n",
       "BELDEN TIMOTHY N                          0.0    213999.0   \n",
       "\n",
       "                    shared_receipt_with_poi  to_messages  total_payments  \\\n",
       "TOTAL                                   0.0          0.0     309886585.0   \n",
       "LAVORATO JOHN J                      3962.0       7259.0      10425757.0   \n",
       "LAY KENNETH L                        2411.0       4273.0     103559793.0   \n",
       "SKILLING JEFFREY K                   2042.0       3627.0       8682716.0   \n",
       "BELDEN TIMOTHY N                     5521.0       7991.0       5501630.0   \n",
       "\n",
       "                    total_stock_value  to_msg_ratio  from_msg_ratio  \\\n",
       "TOTAL                     434509511.0      0.000000        0.000000   \n",
       "LAVORATO JOHN J             5167144.0      0.056619        0.204255   \n",
       "LAY KENNETH L              49110078.0      0.003744        3.416667   \n",
       "SKILLING JEFFREY K         26093672.0      0.008271        0.814815   \n",
       "BELDEN TIMOTHY N            1110705.0      0.013515        0.471074   \n",
       "\n",
       "                    bon_plus_expenses  bon_sal_ratio  \n",
       "TOTAL                     102578817.0       3.645251  \n",
       "LAVORATO JOHN J             8049537.0      23.578789  \n",
       "LAY KENNETH L               7099832.0       6.527896  \n",
       "SKILLING JEFFREY K          5629336.0       5.039334  \n",
       "BELDEN TIMOTHY N            5267354.0      24.532820  \n",
       "\n",
       "[5 rows x 25 columns]"
      ]
     },
     "execution_count": 11,
     "metadata": {},
     "output_type": "execute_result"
    }
   ],
   "source": [
    "# Identify the highest bonus and salary values to see what is going on \n",
    "df_new.sort_values(['bonus', 'salary'], ascending=False).head()"
   ]
  },
  {
   "cell_type": "code",
   "execution_count": 12,
   "metadata": {},
   "outputs": [
    {
     "data": {
      "text/plain": [
       "bonus                             0\n",
       "deferral_payments                 0\n",
       "deferred_income                   0\n",
       "director_fees                     0\n",
       "email_address                     0\n",
       "exercised_stock_options           0\n",
       "expenses                          0\n",
       "from_messages                     0\n",
       "from_poi_to_this_person           0\n",
       "from_this_person_to_poi           0\n",
       "loan_advances                     0\n",
       "long_term_incentive               0\n",
       "other                        362096\n",
       "poi                           False\n",
       "restricted_stock                  0\n",
       "restricted_stock_deferred         0\n",
       "salary                            0\n",
       "shared_receipt_with_poi           0\n",
       "to_messages                       0\n",
       "total_payments               362096\n",
       "total_stock_value                 0\n",
       "to_msg_ratio                      0\n",
       "from_msg_ratio                    0\n",
       "bon_plus_expenses                 0\n",
       "bon_sal_ratio                     0\n",
       "Name: THE TRAVEL AGENCY IN THE PARK, dtype: object"
      ]
     },
     "execution_count": 12,
     "metadata": {},
     "output_type": "execute_result"
    }
   ],
   "source": [
    "# Check to see if this was in the data\n",
    "df_new.loc['THE TRAVEL AGENCY IN THE PARK']"
   ]
  },
  {
   "cell_type": "code",
   "execution_count": 13,
   "metadata": {},
   "outputs": [
    {
     "data": {
      "text/html": [
       "<div>\n",
       "<style>\n",
       "    .dataframe thead tr:only-child th {\n",
       "        text-align: right;\n",
       "    }\n",
       "\n",
       "    .dataframe thead th {\n",
       "        text-align: left;\n",
       "    }\n",
       "\n",
       "    .dataframe tbody tr th {\n",
       "        vertical-align: top;\n",
       "    }\n",
       "</style>\n",
       "<table border=\"1\" class=\"dataframe\">\n",
       "  <thead>\n",
       "    <tr style=\"text-align: right;\">\n",
       "      <th></th>\n",
       "      <th>bonus</th>\n",
       "      <th>deferral_payments</th>\n",
       "      <th>deferred_income</th>\n",
       "      <th>director_fees</th>\n",
       "      <th>email_address</th>\n",
       "      <th>exercised_stock_options</th>\n",
       "      <th>expenses</th>\n",
       "      <th>from_messages</th>\n",
       "      <th>from_poi_to_this_person</th>\n",
       "      <th>from_this_person_to_poi</th>\n",
       "      <th>...</th>\n",
       "      <th>restricted_stock_deferred</th>\n",
       "      <th>salary</th>\n",
       "      <th>shared_receipt_with_poi</th>\n",
       "      <th>to_messages</th>\n",
       "      <th>total_payments</th>\n",
       "      <th>total_stock_value</th>\n",
       "      <th>to_msg_ratio</th>\n",
       "      <th>from_msg_ratio</th>\n",
       "      <th>bon_plus_expenses</th>\n",
       "      <th>bon_sal_ratio</th>\n",
       "    </tr>\n",
       "  </thead>\n",
       "  <tbody>\n",
       "    <tr>\n",
       "      <th>LOCKHART EUGENE E</th>\n",
       "      <td>0.0</td>\n",
       "      <td>0.0</td>\n",
       "      <td>0.0</td>\n",
       "      <td>0.0</td>\n",
       "      <td>0.0</td>\n",
       "      <td>0.0</td>\n",
       "      <td>0.0</td>\n",
       "      <td>0.0</td>\n",
       "      <td>0.0</td>\n",
       "      <td>0.0</td>\n",
       "      <td>...</td>\n",
       "      <td>0.0</td>\n",
       "      <td>0.0</td>\n",
       "      <td>0.0</td>\n",
       "      <td>0.0</td>\n",
       "      <td>0.0</td>\n",
       "      <td>0.0</td>\n",
       "      <td>0.0</td>\n",
       "      <td>0.0</td>\n",
       "      <td>0.0</td>\n",
       "      <td>0.0</td>\n",
       "    </tr>\n",
       "  </tbody>\n",
       "</table>\n",
       "<p>1 rows × 25 columns</p>\n",
       "</div>"
      ],
      "text/plain": [
       "                   bonus  deferral_payments  deferred_income  director_fees  \\\n",
       "LOCKHART EUGENE E    0.0                0.0              0.0            0.0   \n",
       "\n",
       "                   email_address  exercised_stock_options  expenses  \\\n",
       "LOCKHART EUGENE E            0.0                      0.0       0.0   \n",
       "\n",
       "                   from_messages  from_poi_to_this_person  \\\n",
       "LOCKHART EUGENE E            0.0                      0.0   \n",
       "\n",
       "                   from_this_person_to_poi      ...        \\\n",
       "LOCKHART EUGENE E                      0.0      ...         \n",
       "\n",
       "                   restricted_stock_deferred  salary  shared_receipt_with_poi  \\\n",
       "LOCKHART EUGENE E                        0.0     0.0                      0.0   \n",
       "\n",
       "                   to_messages  total_payments  total_stock_value  \\\n",
       "LOCKHART EUGENE E          0.0             0.0                0.0   \n",
       "\n",
       "                   to_msg_ratio  from_msg_ratio  bon_plus_expenses  \\\n",
       "LOCKHART EUGENE E           0.0             0.0                0.0   \n",
       "\n",
       "                   bon_sal_ratio  \n",
       "LOCKHART EUGENE E            0.0  \n",
       "\n",
       "[1 rows x 25 columns]"
      ]
     },
     "execution_count": 13,
     "metadata": {},
     "output_type": "execute_result"
    }
   ],
   "source": [
    "# Find entry with all missing values\n",
    "\n",
    "df_new[(df_new.T == 0).all()]"
   ]
  },
  {
   "cell_type": "code",
   "execution_count": 14,
   "metadata": {},
   "outputs": [
    {
     "name": "stdout",
     "output_type": "stream",
     "text": [
      "bonus                        9.73436e+07\n",
      "deferral_payments            3.20834e+07\n",
      "deferred_income             -2.79929e+07\n",
      "director_fees                1.39852e+06\n",
      "email_address                          0\n",
      "exercised_stock_options      3.11764e+08\n",
      "expenses                      5.2352e+06\n",
      "from_messages                          0\n",
      "from_poi_to_this_person                0\n",
      "from_this_person_to_poi                0\n",
      "loan_advances                 8.3925e+07\n",
      "long_term_incentive          4.85219e+07\n",
      "other                        4.26676e+07\n",
      "poi                                False\n",
      "restricted_stock             1.30322e+08\n",
      "restricted_stock_deferred   -7.57679e+06\n",
      "salary                       2.67042e+07\n",
      "shared_receipt_with_poi                0\n",
      "to_messages                            0\n",
      "total_payments               3.09887e+08\n",
      "total_stock_value             4.3451e+08\n",
      "to_msg_ratio                           0\n",
      "from_msg_ratio                         0\n",
      "bon_plus_expenses            1.02579e+08\n",
      "bon_sal_ratio                    3.64525\n",
      "Name: TOTAL, dtype: object\n"
     ]
    }
   ],
   "source": [
    "print df_new.loc['TOTAL']"
   ]
  },
  {
   "cell_type": "code",
   "execution_count": 15,
   "metadata": {},
   "outputs": [],
   "source": [
    "# Remove all rows that are outliers\n",
    "# Remove TOTAL and TRAVEL AGENCY because they're stat sheet quirks\n",
    "# Remove LOCKHART EUGENE E because a row with no data adds nothing to training\n",
    "df_new.drop(['TOTAL', 'THE TRAVEL AGENCY IN THE PARK', 'LOCKHART EUGENE E'], inplace=True)"
   ]
  },
  {
   "cell_type": "code",
   "execution_count": 16,
   "metadata": {},
   "outputs": [
    {
     "name": "stdout",
     "output_type": "stream",
     "text": [
      "Number of POI in data set: 18\n"
     ]
    }
   ],
   "source": [
    "# Find how many POIs are left in the data\n",
    "print \"Number of POI in data set: \" + str(len(df_new[(df_new['poi'] == True)]))"
   ]
  },
  {
   "cell_type": "code",
   "execution_count": 17,
   "metadata": {
    "collapsed": true
   },
   "outputs": [],
   "source": [
    "# create a dictionary from the dataframe\n",
    "df_dict = df_new.to_dict('index')"
   ]
  },
  {
   "cell_type": "code",
   "execution_count": 18,
   "metadata": {
    "collapsed": true
   },
   "outputs": [],
   "source": [
    "### Task 3: Create new feature(s)\n",
    "### Store to my_dataset for easy export below.\n",
    "my_dataset = df_dict"
   ]
  },
  {
   "cell_type": "code",
   "execution_count": 19,
   "metadata": {},
   "outputs": [
    {
     "name": "stdout",
     "output_type": "stream",
     "text": [
      "Number of data points: 143\n"
     ]
    }
   ],
   "source": [
    "# Check how many data points are left in my data\n",
    "print \"Number of data points: \" + str(len(my_dataset))"
   ]
  },
  {
   "cell_type": "code",
   "execution_count": 20,
   "metadata": {
    "collapsed": true
   },
   "outputs": [],
   "source": [
    "### Extract features and labels from dataset for local testing\n",
    "# Created one function for exploration then another for use after feature selection\n",
    "exploration_data = featureFormat(my_dataset, all_features, sort_keys = True)\n",
    "labels_exploration, features_exploration = targetFeatureSplit(exploration_data)\n",
    "\n",
    "data = featureFormat(my_dataset, features_list, sort_keys = True)\n",
    "labels, features = targetFeatureSplit(data)"
   ]
  },
  {
   "cell_type": "code",
   "execution_count": 21,
   "metadata": {
    "collapsed": true,
    "scrolled": true
   },
   "outputs": [],
   "source": [
    "### Task 4: Try a varity of classifiers\n",
    "### Please name your classifier clf for easy export below.\n",
    "### Note that if you want to do PCA or other multi-stage operations,\n",
    "### you'll need to use Pipelines. For more info:\n",
    "### http://scikit-learn.org/stable/modules/pipeline.html\n",
    "\n",
    "# Provided to give you a starting point. Try a variety of classifiers."
   ]
  },
  {
   "cell_type": "code",
   "execution_count": 22,
   "metadata": {},
   "outputs": [
    {
     "name": "stdout",
     "output_type": "stream",
     "text": [
      "[ 18.28968404  20.79225205   9.92218601  11.45847658   6.09417331\n",
      "   8.77277773  24.81507973   9.21281062   4.18747751   1.64634113\n",
      "          nan   5.24344971   0.16970095   2.38261211   8.58942073\n",
      "   4.09465331   5.12394615  23.01415604  10.78358471]\n"
     ]
    },
    {
     "name": "stderr",
     "output_type": "stream",
     "text": [
      "/Users/benjaminxiao/anaconda2/lib/python2.7/site-packages/sklearn/feature_selection/univariate_selection.py:113: UserWarning: Features [10] are constant.\n",
      "  UserWarning)\n",
      "/Users/benjaminxiao/anaconda2/lib/python2.7/site-packages/sklearn/feature_selection/univariate_selection.py:114: RuntimeWarning: invalid value encountered in divide\n",
      "  f = msb / msw\n"
     ]
    }
   ],
   "source": [
    "selection = SelectKBest(k = 3)\n",
    "selection.fit(features_exploration, labels_exploration)\n",
    "print selection.scores_"
   ]
  },
  {
   "cell_type": "code",
   "execution_count": 23,
   "metadata": {},
   "outputs": [
    {
     "data": {
      "text/plain": [
       "Pipeline(memory=None,\n",
       "     steps=[('standardscaler', StandardScaler(copy=True, with_mean=True, with_std=True)), ('selectkbest', SelectKBest(k=10, score_func=<function f_classif at 0x119626b18>)), ('kneighborsclassifier', KNeighborsClassifier(algorithm='auto', leaf_size=30, metric='minkowski',\n",
       "           metric_params=None, n_jobs=1, n_neighbors=5, p=2,\n",
       "           weights='uniform'))])"
      ]
     },
     "execution_count": 23,
     "metadata": {},
     "output_type": "execute_result"
    }
   ],
   "source": [
    "# Pipeline with KNearestNeighbors, first scaling with StandardScaler\n",
    "# PCA is to help with KNN performance\n",
    "\n",
    "knn = make_pipeline(StandardScaler(with_std = True), \n",
    "                    SelectKBest(),\n",
    "                    KNeighborsClassifier())\n",
    "knn.fit(features_exploration, labels_exploration)"
   ]
  },
  {
   "cell_type": "code",
   "execution_count": 24,
   "metadata": {
    "collapsed": true
   },
   "outputs": [],
   "source": [
    "# First one tried is RandomForestClassifier\n",
    "rfc_exploration = RandomForestClassifier()\n",
    "rfc_exploration = rfc_exploration.fit(features_exploration, labels_exploration)"
   ]
  },
  {
   "cell_type": "code",
   "execution_count": 25,
   "metadata": {
    "collapsed": true
   },
   "outputs": [],
   "source": [
    "# Also trying a decision tree classifier because tree classifiers make sense here\n",
    "dc_exploration = DecisionTreeClassifier()\n",
    "dc_exploration= dc_exploration.fit(features_exploration, labels_exploration)"
   ]
  },
  {
   "cell_type": "code",
   "execution_count": 26,
   "metadata": {
    "collapsed": true
   },
   "outputs": [],
   "source": [
    "# This function appends the feature and according importance value from tree\n",
    "# classifier to a list to view more neatly\n",
    "rfc_impt = []\n",
    "dc_impt = []\n",
    "selection_scores = []\n",
    "\n",
    "def input_impt(impt_list, features_list, impts):\n",
    "    for i in range(len(impts)):\n",
    "        impt_list.append( (features_list[i], impts[i]) )\n",
    "    \n",
    "    impt_list.sort(key = lambda tup: tup[1], reverse = True)\n",
    "    \n",
    "    return impt_list"
   ]
  },
  {
   "cell_type": "code",
   "execution_count": 27,
   "metadata": {},
   "outputs": [
    {
     "data": {
      "text/plain": [
       "[('exercised_stock_options', 24.815079733218194),\n",
       " ('deferred_income', 11.458476579280369),\n",
       " ('email_address', nan),\n",
       " ('bon_plus_expenses', 23.01415603642911),\n",
       " ('bonus', 20.792252047181535),\n",
       " ('salary', 18.289684043404513),\n",
       " ('bon_sal_ratio', 10.783584708160824),\n",
       " ('long_term_incentive', 9.9221860131898225),\n",
       " ('restricted_stock', 9.2128106219771002),\n",
       " ('total_payments', 8.7727777300916756),\n",
       " ('shared_receipt_with_poi', 8.589420731682381),\n",
       " ('expenses', 6.0941733106389453),\n",
       " ('from_poi_to_this_person', 5.2434497133749582),\n",
       " ('from_msg_ratio', 5.1239461527568926),\n",
       " ('other', 4.1874775069953749),\n",
       " ('to_msg_ratio', 4.0946533095769526),\n",
       " ('from_this_person_to_poi', 2.3826121082276739),\n",
       " ('to_messages', 1.6463411294420076),\n",
       " ('from_messages', 0.16970094762175533)]"
      ]
     },
     "execution_count": 27,
     "metadata": {},
     "output_type": "execute_result"
    }
   ],
   "source": [
    "# Call previous function to append and sort feature importances \n",
    "input_impt(rfc_impt, all_features[1:], rfc_exploration.feature_importances_)\n",
    "input_impt(dc_impt, all_features[1:], dc_exploration.feature_importances_)\n",
    "input_impt(selection_scores, all_features[1:], selection.scores_)"
   ]
  },
  {
   "cell_type": "code",
   "execution_count": 28,
   "metadata": {},
   "outputs": [
    {
     "name": "stdout",
     "output_type": "stream",
     "text": [
      "RandomForestClassifier importances values: \n",
      "bon_sal_ratio : 0.138468118356\n",
      "exercised_stock_options : 0.129545137943\n",
      "other : 0.0922319586107\n",
      "from_msg_ratio : 0.0765555250442\n",
      "bon_plus_expenses : 0.0684547996681\n",
      "long_term_incentive : 0.05676915414\n",
      "salary : 0.0566799384751\n",
      "to_msg_ratio : 0.0563602044536\n",
      "from_messages : 0.0475570015084\n",
      "expenses : 0.0410147262723\n",
      "restricted_stock : 0.039907969987\n",
      "to_messages : 0.038070935192\n",
      "deferred_income : 0.0360966359334\n",
      "from_this_person_to_poi : 0.0299420056411\n",
      "from_poi_to_this_person : 0.0285302992921\n",
      "total_payments : 0.0265445534954\n",
      "bonus : 0.0190638744943\n",
      "shared_receipt_with_poi : 0.0182071614925\n",
      "email_address : 0.0\n"
     ]
    }
   ],
   "source": [
    "print \"RandomForestClassifier importances values: \"\n",
    "for item in rfc_impt:\n",
    "    print item[0] + \" : \" + str(item[1])"
   ]
  },
  {
   "cell_type": "code",
   "execution_count": 29,
   "metadata": {},
   "outputs": [
    {
     "name": "stdout",
     "output_type": "stream",
     "text": [
      "DecisionTreeClassifier importances values: \n",
      "total_payments : 0.220931216931\n",
      "bon_plus_expenses : 0.20684733514\n",
      "expenses : 0.171294427312\n",
      "restricted_stock : 0.120622508499\n",
      "exercised_stock_options : 0.118019268144\n",
      "from_poi_to_this_person : 0.0847407407407\n",
      "deferred_income : 0.0544761904762\n",
      "to_msg_ratio : 0.0230683127572\n",
      "salary : 0.0\n",
      "bonus : 0.0\n",
      "long_term_incentive : 0.0\n",
      "other : 0.0\n",
      "to_messages : 0.0\n",
      "email_address : 0.0\n",
      "from_messages : 0.0\n",
      "from_this_person_to_poi : 0.0\n",
      "shared_receipt_with_poi : 0.0\n",
      "from_msg_ratio : 0.0\n",
      "bon_sal_ratio : 0.0\n"
     ]
    }
   ],
   "source": [
    "print \"DecisionTreeClassifier importances values: \"\n",
    "for item in dc_impt:\n",
    "    print item[0] + \" : \" + str(item[1])"
   ]
  },
  {
   "cell_type": "code",
   "execution_count": 30,
   "metadata": {},
   "outputs": [
    {
     "name": "stdout",
     "output_type": "stream",
     "text": [
      "SelectKBest scores: \n",
      "exercised_stock_options : 24.8150797332\n",
      "deferred_income : 11.4584765793\n",
      "email_address : nan\n",
      "bon_plus_expenses : 23.0141560364\n",
      "bonus : 20.7922520472\n",
      "salary : 18.2896840434\n",
      "bon_sal_ratio : 10.7835847082\n",
      "long_term_incentive : 9.92218601319\n",
      "restricted_stock : 9.21281062198\n",
      "total_payments : 8.77277773009\n",
      "shared_receipt_with_poi : 8.58942073168\n",
      "expenses : 6.09417331064\n",
      "from_poi_to_this_person : 5.24344971337\n",
      "from_msg_ratio : 5.12394615276\n",
      "other : 4.187477507\n",
      "to_msg_ratio : 4.09465330958\n",
      "from_this_person_to_poi : 2.38261210823\n",
      "to_messages : 1.64634112944\n",
      "from_messages : 0.169700947622\n"
     ]
    }
   ],
   "source": [
    "print \"SelectKBest scores: \"\n",
    "for item in selection_scores:\n",
    "    print item[0] + \" : \" + str(item[1])"
   ]
  },
  {
   "cell_type": "code",
   "execution_count": 31,
   "metadata": {
    "collapsed": true
   },
   "outputs": [],
   "source": [
    "# Assign to new classifiers after choosing features\n",
    "\n",
    "rfc = rfc_exploration.fit(features, labels)\n",
    "dc = dc_exploration.fit(features, labels)"
   ]
  },
  {
   "cell_type": "code",
   "execution_count": 32,
   "metadata": {
    "collapsed": true
   },
   "outputs": [],
   "source": [
    "### Task 5: Tune your classifier to achieve better than .3 precision and recall\n",
    "### using our testing script. Check the tester.py script in the final project\n",
    "### folder for details on the evaluation method, especially the test_classifier\n",
    "### function. Because of the small size of the dataset, the script uses\n",
    "### stratified shuffle split cross validation. For more info:\n",
    "### http://scikit-learn.org/stable/modules/generated/sklearn.cross_validation.StratifiedShuffleSplit.html\n",
    "\n",
    "# Example starting point. Try investigating other evaluation techniques!\n",
    "features_train, features_test, labels_train, labels_test = \\\n",
    "    train_test_split(features, labels, test_size=0.3, random_state=42)"
   ]
  },
  {
   "cell_type": "code",
   "execution_count": 33,
   "metadata": {
    "collapsed": true
   },
   "outputs": [],
   "source": [
    "# straified cv for parameters, 100 fold, and shuffled\n",
    "best_cv = StratifiedShuffleSplit(n_splits = 100, random_state=42) "
   ]
  },
  {
   "cell_type": "code",
   "execution_count": 34,
   "metadata": {
    "collapsed": true
   },
   "outputs": [],
   "source": [
    "# Function for entering classifiers into GridSearchCV with respective param_grids\n",
    "# The output is time elapsed to run GridSearchCV and best_params_\n",
    "\n",
    "def gridcv(clf, param_grid, cv, n_jobs, scoring):\n",
    "    start_time = time.time()\n",
    "    grid_cv = GridSearchCV(estimator = clf, param_grid = param_grid, cv = cv, \n",
    "                          n_jobs = n_jobs, scoring = scoring)\n",
    "    grid_cv.fit(features, labels)\n",
    "    end_time = time.time()\n",
    "    print \"Minutes elapsed: \" + str((float(end_time - start_time) / 60))\n",
    "    print grid_cv.best_params_"
   ]
  },
  {
   "cell_type": "code",
   "execution_count": 35,
   "metadata": {
    "collapsed": true
   },
   "outputs": [],
   "source": [
    "# Parameter grid for RandomForestClassifier\n",
    "# random_state parameter is to maintain consistency in output.\n",
    "\n",
    "rfc_param_grid = {'n_estimators': [1,2, 3, 10, 100], \n",
    "                 'min_samples_split': [2, 3, 5],\n",
    "                'random_state': [42],\n",
    "                 'max_features': [1, 2, 3],\n",
    "                 'max_depth' : [2, 3, 5, 10, 50],\n",
    "                 'min_samples_leaf': [1, 2, 3, 10]\n",
    "                 }"
   ]
  },
  {
   "cell_type": "code",
   "execution_count": 36,
   "metadata": {
    "collapsed": true
   },
   "outputs": [],
   "source": [
    "# gridsearchcv parameter grid for decisiontreeclassifier\n",
    "# The list comprehension for max_features is just to make the feature selection\n",
    "# process easier on me.\n",
    "dc_param_grid = {'min_samples_split' : [2, 3, 4, 5, 10, 50],\n",
    "                 'max_features' : [x for x in range(1, len(features_list))],\n",
    "                 'min_samples_leaf': [1, 2, 3, 10, 20],\n",
    "                'random_state' : [42]\n",
    "                }"
   ]
  },
  {
   "cell_type": "code",
   "execution_count": 37,
   "metadata": {
    "collapsed": true
   },
   "outputs": [],
   "source": [
    "# gridsearchcv parameter grid for KNeighborsClassifier\n",
    "knn_param_grid = {'kneighborsclassifier__n_neighbors': [x for x in range(1, len(features_list))],\n",
    "                  'kneighborsclassifier__algorithm': ['auto'],\n",
    "                  'kneighborsclassifier__p': [1, 2],\n",
    "                  'kneighborsclassifier__weights': ['uniform', 'distance'],\n",
    "                  'selectkbest__k': [x for x in range(1, len(features_list))]\n",
    "                 }"
   ]
  },
  {
   "cell_type": "code",
   "execution_count": 38,
   "metadata": {
    "collapsed": true
   },
   "outputs": [],
   "source": [
    "# It took 94 minutes for me to run GridSearchCV for RandomForestClassifier.\n",
    "#gridcv(rfc, rfc_param_grid, best_cv, 5, 'f1')"
   ]
  },
  {
   "cell_type": "code",
   "execution_count": 39,
   "metadata": {
    "collapsed": true
   },
   "outputs": [],
   "source": [
    "# Assign clf to classifer chosen after testing with tester.py\n",
    "# Parameters are selected from GridSearchCV's best_params_ attribute\n",
    "\n",
    "#clf = RandomForestClassifier(min_samples_split = 2, n_estimators = 3,\n",
    "#                            random_state = 42, max_depth = 50, min_samples_leaf = 1,\n",
    "#                            max_features = 3)\n",
    "#clf.fit(features, labels)"
   ]
  },
  {
   "cell_type": "code",
   "execution_count": 40,
   "metadata": {},
   "outputs": [
    {
     "name": "stderr",
     "output_type": "stream",
     "text": [
      "/Users/benjaminxiao/anaconda2/lib/python2.7/site-packages/sklearn/metrics/classification.py:1135: UndefinedMetricWarning: F-score is ill-defined and being set to 0.0 due to no predicted samples.\n",
      "  'precision', 'predicted', average, warn_for)\n",
      "/Users/benjaminxiao/anaconda2/lib/python2.7/site-packages/sklearn/metrics/classification.py:1135: UndefinedMetricWarning: F-score is ill-defined and being set to 0.0 due to no predicted samples.\n",
      "  'precision', 'predicted', average, warn_for)\n",
      "/Users/benjaminxiao/anaconda2/lib/python2.7/site-packages/sklearn/metrics/classification.py:1135: UndefinedMetricWarning: F-score is ill-defined and being set to 0.0 due to no predicted samples.\n",
      "  'precision', 'predicted', average, warn_for)\n",
      "/Users/benjaminxiao/anaconda2/lib/python2.7/site-packages/sklearn/metrics/classification.py:1135: UndefinedMetricWarning: F-score is ill-defined and being set to 0.0 due to no predicted samples.\n",
      "  'precision', 'predicted', average, warn_for)\n",
      "/Users/benjaminxiao/anaconda2/lib/python2.7/site-packages/sklearn/metrics/classification.py:1135: UndefinedMetricWarning: F-score is ill-defined and being set to 0.0 due to no predicted samples.\n",
      "  'precision', 'predicted', average, warn_for)\n"
     ]
    },
    {
     "name": "stdout",
     "output_type": "stream",
     "text": [
      "Minutes elapsed: 0.510907916228\n",
      "{'max_features': 2, 'min_samples_split': 2, 'random_state': 42, 'min_samples_leaf': 1}\n"
     ]
    }
   ],
   "source": [
    "gridcv(dc, dc_param_grid, best_cv, 5, 'f1')"
   ]
  },
  {
   "cell_type": "code",
   "execution_count": 41,
   "metadata": {},
   "outputs": [
    {
     "data": {
      "text/plain": [
       "DecisionTreeClassifier(class_weight=None, criterion='gini', max_depth=None,\n",
       "            max_features=2, max_leaf_nodes=None, min_impurity_decrease=0.0,\n",
       "            min_impurity_split=None, min_samples_leaf=1,\n",
       "            min_samples_split=2, min_weight_fraction_leaf=0.0,\n",
       "            presort=False, random_state=42, splitter='best')"
      ]
     },
     "execution_count": 41,
     "metadata": {},
     "output_type": "execute_result"
    }
   ],
   "source": [
    "# Parameters are selected from GridSearchCV's best_params_ attributes\n",
    "# I ended up choosing DecisionTreeClassifier because it performed better with\n",
    "# precision and recall in tester.py\n",
    "clf = DecisionTreeClassifier(min_samples_split = 2, random_state = 42,\n",
    "                            max_features = 2, min_samples_leaf = 1)\n",
    "clf.fit(features, labels)"
   ]
  },
  {
   "cell_type": "code",
   "execution_count": 42,
   "metadata": {},
   "outputs": [
    {
     "name": "stderr",
     "output_type": "stream",
     "text": [
      "/Users/benjaminxiao/anaconda2/lib/python2.7/site-packages/sklearn/metrics/classification.py:1135: UndefinedMetricWarning: F-score is ill-defined and being set to 0.0 due to no predicted samples.\n",
      "  'precision', 'predicted', average, warn_for)\n",
      "/Users/benjaminxiao/anaconda2/lib/python2.7/site-packages/sklearn/metrics/classification.py:1135: UndefinedMetricWarning: F-score is ill-defined and being set to 0.0 due to no predicted samples.\n",
      "  'precision', 'predicted', average, warn_for)\n",
      "/Users/benjaminxiao/anaconda2/lib/python2.7/site-packages/sklearn/metrics/classification.py:1135: UndefinedMetricWarning: F-score is ill-defined and being set to 0.0 due to no predicted samples.\n",
      "  'precision', 'predicted', average, warn_for)\n",
      "/Users/benjaminxiao/anaconda2/lib/python2.7/site-packages/sklearn/metrics/classification.py:1135: UndefinedMetricWarning: F-score is ill-defined and being set to 0.0 due to no predicted samples.\n",
      "  'precision', 'predicted', average, warn_for)\n",
      "/Users/benjaminxiao/anaconda2/lib/python2.7/site-packages/sklearn/metrics/classification.py:1135: UndefinedMetricWarning: F-score is ill-defined and being set to 0.0 due to no predicted samples.\n",
      "  'precision', 'predicted', average, warn_for)\n"
     ]
    },
    {
     "name": "stdout",
     "output_type": "stream",
     "text": [
      "Minutes elapsed: 0.64245613416\n",
      "{'kneighborsclassifier__p': 1, 'selectkbest__k': 3, 'kneighborsclassifier__algorithm': 'auto', 'kneighborsclassifier__n_neighbors': 1, 'kneighborsclassifier__weights': 'uniform'}\n"
     ]
    }
   ],
   "source": [
    "# Run GridSearchCV for KNeighborsClassifier parameters\n",
    "gridcv(knn, knn_param_grid, best_cv, 5, 'f1')"
   ]
  },
  {
   "cell_type": "code",
   "execution_count": 43,
   "metadata": {
    "collapsed": true
   },
   "outputs": [],
   "source": [
    "# Assign KNeighborsClassifier to clf for testing\n",
    "\n",
    "#clf = make_pipeline(StandardScaler(with_std = True), \n",
    "#                    SelectKBest(k = 3),\n",
    "#                    KNeighborsClassifier(n_neighbors = 1, algorithm = 'auto', \n",
    "#                                        weights = 'uniform',p = 2))\n",
    "#clf.fit(features_exploration, labels_exploration)"
   ]
  },
  {
   "cell_type": "code",
   "execution_count": 44,
   "metadata": {},
   "outputs": [
    {
     "data": {
      "text/plain": [
       "1.0"
      ]
     },
     "execution_count": 44,
     "metadata": {},
     "output_type": "execute_result"
    }
   ],
   "source": [
    "# This little bit of code is a quick preliminary check before running tester.py\n",
    "labels_pred = clf.predict(features_test)\n",
    "f1_score(labels_test, labels_pred)"
   ]
  },
  {
   "cell_type": "code",
   "execution_count": 45,
   "metadata": {
    "collapsed": true,
    "scrolled": true
   },
   "outputs": [],
   "source": [
    "### Task 6: Dump your classifier, dataset, and features_list so anyone can\n",
    "### check your results. You do not need to change anything below, but make sure\n",
    "### that the version of poi_id.py that you submit can be run on its own and\n",
    "### generates the necessary .pkl files for validating your results.\n",
    "\n",
    "dump_classifier_and_data(clf, my_dataset, features_list)\n"
   ]
  }
 ],
 "metadata": {
  "kernelspec": {
   "display_name": "Python 2",
   "language": "python",
   "name": "python2"
  },
  "language_info": {
   "codemirror_mode": {
    "name": "ipython",
    "version": 2
   },
   "file_extension": ".py",
   "mimetype": "text/x-python",
   "name": "python",
   "nbconvert_exporter": "python",
   "pygments_lexer": "ipython2",
   "version": "2.7.13"
  }
 },
 "nbformat": 4,
 "nbformat_minor": 2
}
